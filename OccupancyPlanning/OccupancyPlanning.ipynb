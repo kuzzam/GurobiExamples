{
 "cells": [
  {
   "cell_type": "code",
   "execution_count": 1,
   "outputs": [
    {
     "name": "stdout",
     "output_type": "stream",
     "text": [
      "Set parameter Username\n",
      "Academic license - for non-commercial use only - expires 2023-11-30\n",
      "Set parameter TimeLimit to value 100\n",
      "Gurobi Optimizer version 10.0.0 build v10.0.0rc2 (win64)\n",
      "\n",
      "CPU model: 11th Gen Intel(R) Core(TM) i3-1115G4 @ 3.00GHz, instruction set [SSE2|AVX|AVX2|AVX512]\n",
      "Thread count: 2 physical cores, 4 logical processors, using up to 4 threads\n",
      "\n",
      "Optimize a model with 10 rows, 20 columns and 39 nonzeros\n",
      "Model fingerprint: 0x1ca20ccc\n",
      "Variable types: 0 continuous, 20 integer (20 binary)\n",
      "Coefficient statistics:\n",
      "  Matrix range     [1e+00, 5e+03]\n",
      "  Objective range  [5e+02, 3e+03]\n",
      "  Bounds range     [1e+00, 1e+00]\n",
      "  RHS range        [1e+00, 1e+04]\n",
      "Found heuristic solution: objective 4650.0000000\n",
      "Presolve removed 5 rows and 7 columns\n",
      "Presolve time: 0.01s\n",
      "Presolved: 5 rows, 13 columns, 22 nonzeros\n",
      "Variable types: 0 continuous, 13 integer (13 binary)\n",
      "Found heuristic solution: objective 6750.0000000\n",
      "\n",
      "Root relaxation: objective 7.116667e+03, 5 iterations, 0.01 seconds (0.00 work units)\n",
      "\n",
      "    Nodes    |    Current Node    |     Objective Bounds      |     Work\n",
      " Expl Unexpl |  Obj  Depth IntInf | Incumbent    BestBd   Gap | It/Node Time\n",
      "\n",
      "     0     0 7116.66667    0    2 6750.00000 7116.66667  5.43%     -    0s\n",
      "H    0     0                    7050.0000000 7116.66667  0.95%     -    0s\n",
      "     0     0 7116.66667    0    2 7050.00000 7116.66667  0.95%     -    0s\n",
      "\n",
      "Explored 1 nodes (5 simplex iterations) in 0.08 seconds (0.00 work units)\n",
      "Thread count was 4 (of 4 available processors)\n",
      "\n",
      "Solution count 3: 7050 6750 4650 \n",
      "\n",
      "Optimal solution found (tolerance 1.00e-04)\n",
      "Best objective 7.050000000000e+03, best bound 7.050000000000e+03, gap 0.0000%\n"
     ]
    }
   ],
   "source": [
    "import gurobipy as gp\n",
    "from gurobipy import *\n",
    "\n",
    "\n",
    "occupancy= Model()\n",
    "\n",
    "\n",
    "#Possible quantity of a specific shop type\n",
    "quantity=[0,1,2,3]\n",
    "\n",
    "#Utility matrix 5x4 (shop type x quantity)\n",
    "u=[[0,9000,8000,7000],[0,10000,9000,5000],[0,27000,21000,20000],[0,16000,9000,7000],[0,17000,13000,10000]]\n",
    "\n",
    "#Capacity\n",
    "c=[500,600,1500,700,900]\n",
    "\n",
    "\n",
    "#Decision variables\n",
    "y0=occupancy.addVars(quantity, vtype=GRB.BINARY, name='Jewlery')\n",
    "y1=occupancy.addVars(quantity, vtype=GRB.BINARY, name='Tailorshop')\n",
    "y2=occupancy.addVars(quantity, vtype=GRB.BINARY, name='Bank')\n",
    "y3=occupancy.addVars(quantity, vtype=GRB.BINARY, name='Bookstore')\n",
    "y4=occupancy.addVars(quantity, vtype=GRB.BINARY, name='Clothing store')\n",
    "\n",
    "\n",
    "#Restrictions: minamal values\n",
    "occupancy.addConstr( y0[0] == 0 )\n",
    "occupancy.addConstr( y1[0] == 0 )\n",
    "occupancy.addConstr( y2[0] == 0 )\n",
    "occupancy.addConstr( y4[0] == 0 )\n",
    "\n",
    "#Restrctions: Only one quantity value is permissible per decision variable\n",
    "occupancy.addConstr( sum(y0[i] for i in quantity) == 1 )\n",
    "occupancy.addConstr( sum(y1[i] for i in quantity) == 1 )\n",
    "occupancy.addConstr( sum(y2[i] for i in quantity) == 1 )\n",
    "occupancy.addConstr( sum(y3[i] for i in quantity) == 1 )\n",
    "occupancy.addConstr( sum(y4[i] for i in quantity) == 1 )\n",
    "\n",
    "#Capacity restriction\n",
    "sumc= sum(i*y0[i]*c[0] for i in quantity) + sum(i*y1[i]*c[1] for i in quantity)+ sum(i*y2[i]*c[2] for i in quantity)+ sum(i*y3[i]*c[3] for i in quantity)+sum(i*y4[i]*c[4] for i in quantity)\n",
    "occupancy.addConstr(sumc <= 10000)\n",
    "\n",
    "\n",
    "#Objective Function\n",
    "Obj=0.05*(sum(i*y0[i]*u[0][i] for i in quantity)+sum(i*y1[i]*u[1][i] for i in quantity)+sum(i*y2[i]*u[2][i] for i in quantity)+sum(i*y3[i]*u[3][i] for i in quantity)+sum(i*y4[i]*u[4][i] for i in quantity))\n",
    "occupancy.setObjective( Obj , GRB.MAXIMIZE)\n",
    "\n",
    "\n",
    "occupancy.setParam('TimeLimit', 100)\n",
    "occupancy.optimize()"
   ],
   "metadata": {
    "collapsed": false,
    "pycharm": {
     "name": "#%%\n"
    }
   }
  },
  {
   "cell_type": "code",
   "execution_count": null,
   "outputs": [],
   "source": [],
   "metadata": {
    "collapsed": false,
    "pycharm": {
     "name": "#%%\n"
    }
   }
  }
 ],
 "metadata": {
  "kernelspec": {
   "display_name": "Python 3",
   "language": "python",
   "name": "python3"
  },
  "language_info": {
   "codemirror_mode": {
    "name": "ipython",
    "version": 2
   },
   "file_extension": ".py",
   "mimetype": "text/x-python",
   "name": "python",
   "nbconvert_exporter": "python",
   "pygments_lexer": "ipython2",
   "version": "2.7.6"
  }
 },
 "nbformat": 4,
 "nbformat_minor": 0
}